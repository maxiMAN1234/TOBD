{
 "cells": [
  {
   "cell_type": "markdown",
   "id": "f9b8d745",
   "metadata": {},
   "source": [
    "# Работа с базами данных (2)"
   ]
  },
  {
   "cell_type": "markdown",
   "id": "52dea052",
   "metadata": {},
   "source": [
    "__Автор задач: Блохин Н.В. (NVBlokhin@fa.ru)__\n",
    "\n",
    "Материалы:\n",
    "* Макрушин С.В. Лекция \"Работа с базами данных\"\n",
    "* https://sqliteonline.com/\n",
    "* https://docs.python.org/3/library/sqlite3.html\n",
    "* https://www.sqlitetutorial.net/sqlite-index/\n",
    "* https://docs.python.org/3/library/sqlite3.html#sqlite3.IntegrityError\n",
    "* https://www.sqlitetutorial.net/sqlite-alter-table/\n",
    "* https://www.sqlitetutorial.net/sqlite-create-view/\n",
    "* https://habr.com/ru/post/664000/\n",
    "* https://learnsql.com/blog/what-is-common-table-expression/\n"
   ]
  },
  {
   "cell_type": "code",
   "execution_count": 1,
   "id": "8803566b",
   "metadata": {},
   "outputs": [],
   "source": [
    "import pandas as pd\n",
    "import csv\n",
    "import sqlite3"
   ]
  },
  {
   "cell_type": "markdown",
   "id": "adbd64fe",
   "metadata": {},
   "source": [
    "## Задачи для совместного разбора"
   ]
  },
  {
   "cell_type": "markdown",
   "id": "b73cdf2b",
   "metadata": {},
   "source": [
    "1\\. Добавить столбец Age со значением по умолчанию. Добавить запись к таблицу"
   ]
  },
  {
   "cell_type": "markdown",
   "id": "c41063fc",
   "metadata": {},
   "source": [
    "2\\. Занумеруйте студентов в рамках каждой группы."
   ]
  },
  {
   "cell_type": "markdown",
   "id": "f25a9d2f",
   "metadata": {},
   "source": [
    "3\\. Выведите уникальные номера студентов"
   ]
  },
  {
   "cell_type": "markdown",
   "id": "e4229ad3",
   "metadata": {},
   "source": [
    "## Лабораторная работа 4"
   ]
  },
  {
   "cell_type": "markdown",
   "id": "ab7ef89a",
   "metadata": {},
   "source": [
    "__При решении данных задач не подразумевается использования циклов или генераторов Python в ходе работы с пакетами `numpy` и `pandas`, если в задании не сказано обратного. Решения задач, в которых для обработки массивов `numpy` или структур `pandas` используются явные циклы (без согласования с преподавателем), могут быть признаны некорректными и не засчитаны.__"
   ]
  },
  {
   "cell_type": "markdown",
   "id": "48b60bc7",
   "metadata": {},
   "source": [
    "__Для начала работы подключитесь к БД `recipes.db` и создайте объект-курсор.__"
   ]
  },
  {
   "cell_type": "markdown",
   "id": "bf116062",
   "metadata": {},
   "source": [
    "<p class=\"task\" id=\"1\"></p>\n",
    "\n",
    "1\\. Создайте уникальный индекс для таблицы `Review` для обеспечения уникальности сочетания значений в полях `user_id` и `recipe_id`. "
   ]
  },
  {
   "cell_type": "code",
   "execution_count": 2,
   "id": "7f6eef9f",
   "metadata": {},
   "outputs": [],
   "source": [
    "con = sqlite3.connect(\"sqlite3\")"
   ]
  },
  {
   "cell_type": "code",
   "execution_count": 3,
   "id": "f7899301",
   "metadata": {},
   "outputs": [],
   "source": [
    "cur = con.cursor()"
   ]
  },
  {
   "cell_type": "code",
   "execution_count": 4,
   "id": "992b9733",
   "metadata": {},
   "outputs": [
    {
     "data": {
      "text/plain": [
       "<sqlite3.Cursor at 0x2906cbb7f80>"
      ]
     },
     "execution_count": 4,
     "metadata": {},
     "output_type": "execute_result"
    }
   ],
   "source": [
    "cur.execute('CREATE UNIQUE INDEX new_index ON Review (user_id, recipe_id)')"
   ]
  },
  {
   "cell_type": "markdown",
   "id": "9143de78",
   "metadata": {},
   "source": [
    "<p class=\"task\" id=\"2\"></p>\n",
    "\n",
    "2\\. Напишите функцию `add_review(review_id, user_id, recipe_id, date, rating, review)`, которая добавляет запись в таблицу `Review`. В случае успешного добавления функция должна вернуть значение 0. В случае нарушения ограничения целостности функция должна вернуть значение 1. В случае любых других ошибок функция должна вернуть значение 2. Продемонстрируйте работу функции, попытавшись добавить одну и ту же запись дважды в двух ячейках подряд.\n",
    "\n",
    "Для решения задачи воспользуйтесь механизмом try - except и обработайте соответствующее исключение."
   ]
  },
  {
   "cell_type": "code",
   "execution_count": 5,
   "id": "213c1fdb",
   "metadata": {},
   "outputs": [],
   "source": [
    "def add_review(review_id, user_id, recipe_id, date, rating, review):\n",
    "    try:\n",
    "\n",
    "        conn = sqlite3.connect('sqlite3')\n",
    "        cur = conn.cursor()\n",
    "\n",
    "\n",
    "        cur.execute(\"INSERT INTO Review (id, user_id, recipe_id, date, rating, review) VALUES (?, ?, ?, ?, ?, ?)\",\n",
    "                    (review_id, user_id, recipe_id, date, rating, review)) ## Добавление записи в таблицу Review\n",
    "\n",
    "        \n",
    "        conn.commit()\n",
    "\n",
    "\n",
    "        return 0\n",
    "    except sqlite3.IntegrityError:\n",
    "        return 1  # Обработка ошибки нарушения ограничения целостности\n",
    "    except:\n",
    "        return 2"
   ]
  },
  {
   "cell_type": "code",
   "execution_count": 6,
   "id": "89dfbfb8",
   "metadata": {},
   "outputs": [
    {
     "data": {
      "text/plain": [
       "0"
      ]
     },
     "execution_count": 6,
     "metadata": {},
     "output_type": "execute_result"
    }
   ],
   "source": [
    "add_review(1,1,1,'2022-08-12',5, 'SO BAD, Really is ...')"
   ]
  },
  {
   "cell_type": "code",
   "execution_count": 7,
   "id": "bb3aff31",
   "metadata": {},
   "outputs": [
    {
     "data": {
      "text/plain": [
       "1"
      ]
     },
     "execution_count": 7,
     "metadata": {},
     "output_type": "execute_result"
    }
   ],
   "source": [
    "add_review(1,1,1,'2022-08-12',5, 'SO BAD, Really is ...')"
   ]
  },
  {
   "cell_type": "code",
   "execution_count": 8,
   "id": "659f3e12",
   "metadata": {},
   "outputs": [
    {
     "data": {
      "text/plain": [
       "<sqlite3.Cursor at 0x132514c8f80>"
      ]
     },
     "execution_count": 8,
     "metadata": {},
     "output_type": "execute_result"
    }
   ],
   "source": [
    "a=cur.execute(\"SELECT * FROM Review WHERE id = 1 \")\n",
    "a"
   ]
  },
  {
   "attachments": {
    "image.png": {
     "image/png": "[encoded data removed]"
    }
   },
   "cell_type": "markdown",
   "id": "83e055aa",
   "metadata": {},
   "source": [
    "![image.png](attachment:image.png)"
   ]
  },
  {
   "attachments": {
    "image.png": {
     "image/png": "[encoded data removed]"
    }
   },
   "cell_type": "markdown",
   "id": "d53678a1",
   "metadata": {},
   "source": [
    "![image.png](attachment:image.png)"
   ]
  },
  {
   "cell_type": "markdown",
   "id": "056d25ba",
   "metadata": {},
   "source": [
    "<p class=\"task\" id=\"3\"></p>\n",
    "\n",
    "3\\. _Измените_ таблицу Review, добавив в нее поле `toxic` булева типа. "
   ]
  },
  {
   "cell_type": "code",
   "execution_count": 10,
   "id": "b9bcfa71",
   "metadata": {},
   "outputs": [
    {
     "data": {
      "text/html": [
       "<div>\n",
       "<style scoped>\n",
       "    .dataframe tbody tr th:only-of-type {\n",
       "        vertical-align: middle;\n",
       "    }\n",
       "\n",
       "    .dataframe tbody tr th {\n",
       "        vertical-align: top;\n",
       "    }\n",
       "\n",
       "    .dataframe thead th {\n",
       "        text-align: right;\n",
       "    }\n",
       "</style>\n",
       "<table border=\"1\" class=\"dataframe\">\n",
       "  <thead>\n",
       "    <tr style=\"text-align: right;\">\n",
       "      <th></th>\n",
       "      <th>id</th>\n",
       "      <th>user_id</th>\n",
       "      <th>recipe_id</th>\n",
       "      <th>date</th>\n",
       "      <th>rating</th>\n",
       "      <th>review</th>\n",
       "      <th>toxic</th>\n",
       "    </tr>\n",
       "  </thead>\n",
       "  <tbody>\n",
       "    <tr>\n",
       "      <th>0</th>\n",
       "      <td>370476</td>\n",
       "      <td>21752</td>\n",
       "      <td>57993</td>\n",
       "      <td>2003-05-01</td>\n",
       "      <td>5</td>\n",
       "      <td>Last week whole sides of frozen salmon fillet ...</td>\n",
       "      <td>None</td>\n",
       "    </tr>\n",
       "    <tr>\n",
       "      <th>1</th>\n",
       "      <td>624300</td>\n",
       "      <td>431813</td>\n",
       "      <td>142201</td>\n",
       "      <td>2007-09-16</td>\n",
       "      <td>5</td>\n",
       "      <td>So simple and so tasty!  I used a yellow capsi...</td>\n",
       "      <td>None</td>\n",
       "    </tr>\n",
       "    <tr>\n",
       "      <th>2</th>\n",
       "      <td>187037</td>\n",
       "      <td>400708</td>\n",
       "      <td>252013</td>\n",
       "      <td>2008-01-10</td>\n",
       "      <td>4</td>\n",
       "      <td>Very nice breakfast HH, easy to make and yummy...</td>\n",
       "      <td>None</td>\n",
       "    </tr>\n",
       "    <tr>\n",
       "      <th>3</th>\n",
       "      <td>706134</td>\n",
       "      <td>2001852463</td>\n",
       "      <td>404716</td>\n",
       "      <td>2017-12-11</td>\n",
       "      <td>5</td>\n",
       "      <td>These are a favorite for the holidays and so e...</td>\n",
       "      <td>None</td>\n",
       "    </tr>\n",
       "    <tr>\n",
       "      <th>4</th>\n",
       "      <td>312179</td>\n",
       "      <td>95810</td>\n",
       "      <td>129396</td>\n",
       "      <td>2008-03-14</td>\n",
       "      <td>5</td>\n",
       "      <td>Excellent soup!  The tomato flavor is just gre...</td>\n",
       "      <td>None</td>\n",
       "    </tr>\n",
       "    <tr>\n",
       "      <th>...</th>\n",
       "      <td>...</td>\n",
       "      <td>...</td>\n",
       "      <td>...</td>\n",
       "      <td>...</td>\n",
       "      <td>...</td>\n",
       "      <td>...</td>\n",
       "      <td>...</td>\n",
       "    </tr>\n",
       "    <tr>\n",
       "      <th>126692</th>\n",
       "      <td>158736</td>\n",
       "      <td>2282344</td>\n",
       "      <td>8701</td>\n",
       "      <td>2012-06-03</td>\n",
       "      <td>0</td>\n",
       "      <td>This recipe is outstanding. I followed the rec...</td>\n",
       "      <td>None</td>\n",
       "    </tr>\n",
       "    <tr>\n",
       "      <th>126693</th>\n",
       "      <td>1059834</td>\n",
       "      <td>689540</td>\n",
       "      <td>222001</td>\n",
       "      <td>2008-04-08</td>\n",
       "      <td>5</td>\n",
       "      <td>Well, we were not a crowd but it was a fabulou...</td>\n",
       "      <td>None</td>\n",
       "    </tr>\n",
       "    <tr>\n",
       "      <th>126694</th>\n",
       "      <td>453285</td>\n",
       "      <td>2000242659</td>\n",
       "      <td>354979</td>\n",
       "      <td>2015-06-02</td>\n",
       "      <td>5</td>\n",
       "      <td>I have been a steak eater and dedicated BBQ gr...</td>\n",
       "      <td>None</td>\n",
       "    </tr>\n",
       "    <tr>\n",
       "      <th>126695</th>\n",
       "      <td>691207</td>\n",
       "      <td>463435</td>\n",
       "      <td>415599</td>\n",
       "      <td>2010-09-30</td>\n",
       "      <td>5</td>\n",
       "      <td>Wonderful and simple to prepare seasoning blen...</td>\n",
       "      <td>None</td>\n",
       "    </tr>\n",
       "    <tr>\n",
       "      <th>126696</th>\n",
       "      <td>1</td>\n",
       "      <td>1</td>\n",
       "      <td>1</td>\n",
       "      <td>2022-08-12</td>\n",
       "      <td>5</td>\n",
       "      <td>SO BAD, Really is ...</td>\n",
       "      <td>None</td>\n",
       "    </tr>\n",
       "  </tbody>\n",
       "</table>\n",
       "<p>126697 rows × 7 columns</p>\n",
       "</div>"
      ],
      "text/plain": [
       "             id     user_id  recipe_id        date  rating  \\\n",
       "0        370476       21752      57993  2003-05-01       5   \n",
       "1        624300      431813     142201  2007-09-16       5   \n",
       "2        187037      400708     252013  2008-01-10       4   \n",
       "3        706134  2001852463     404716  2017-12-11       5   \n",
       "4        312179       95810     129396  2008-03-14       5   \n",
       "...         ...         ...        ...         ...     ...   \n",
       "126692   158736     2282344       8701  2012-06-03       0   \n",
       "126693  1059834      689540     222001  2008-04-08       5   \n",
       "126694   453285  2000242659     354979  2015-06-02       5   \n",
       "126695   691207      463435     415599  2010-09-30       5   \n",
       "126696        1           1          1  2022-08-12       5   \n",
       "\n",
       "                                                   review toxic  \n",
       "0       Last week whole sides of frozen salmon fillet ...  None  \n",
       "1       So simple and so tasty!  I used a yellow capsi...  None  \n",
       "2       Very nice breakfast HH, easy to make and yummy...  None  \n",
       "3       These are a favorite for the holidays and so e...  None  \n",
       "4       Excellent soup!  The tomato flavor is just gre...  None  \n",
       "...                                                   ...   ...  \n",
       "126692  This recipe is outstanding. I followed the rec...  None  \n",
       "126693  Well, we were not a crowd but it was a fabulou...  None  \n",
       "126694  I have been a steak eater and dedicated BBQ gr...  None  \n",
       "126695  Wonderful and simple to prepare seasoning blen...  None  \n",
       "126696                              SO BAD, Really is ...  None  \n",
       "\n",
       "[126697 rows x 7 columns]"
      ]
     },
     "execution_count": 10,
     "metadata": {},
     "output_type": "execute_result"
    }
   ],
   "source": [
    "sql='''\n",
    "ALTER TABLE Review\n",
    "    ADD COLUMN toxic BOOLEAN\n",
    "'''\n",
    "cur.execute(sql)\n",
    "con.commit()\n",
    "pd.read_sql_query('Select * FROM Review', con)"
   ]
  },
  {
   "cell_type": "markdown",
   "id": "0d12bb7c",
   "metadata": {},
   "source": [
    "<p class=\"task\" id=\"4\"></p>\n",
    "\n",
    "4\\. Вам дан классификатор `clf`, который классифицирует тексты отзывов как токсичные (`True`) и не токсичные (`False`).\n",
    "Напишите функцию `classify_reviews`, которая итеративно получает пакет (батч) `batch_size` строк из таблицы Reviews, у которых не проставлено значение в столбце `toxic`, делает для них прогноз при помощи модели `clf` и обновляет соответствующие строки в БД. Данная процедура выполняется до тех пор, пока в БД есть строки, для которых требуется получить прогноз.\n",
    "\n",
    "Продемонстрируйте результат, выведя на экран количество токсичных и не токсичных отзывов в таблице."
   ]
  },
  {
   "cell_type": "code",
   "execution_count": 11,
   "id": "18f691d9",
   "metadata": {},
   "outputs": [],
   "source": [
    "from sklearn.dummy import DummyClassifier\n",
    "\n",
    "clf = DummyClassifier(strategy=\"uniform\").fit(None, [True, False])\n",
    "\n",
    "def classify_reviews(batch_size, con):\n",
    "    cur = con.cursor()\n",
    "    \n",
    "    # Получаем первый пакет отзывов\n",
    "    cur.execute(f'SELECT * FROM Review WHERE toxic IS NULL LIMIT {batch_size}') #запрос на выборку строк из таблицы Review, количество batch_size \n",
    "    rows = cur.fetchall() #получаем все выбранные строки, спис корт\n",
    "    \n",
    "    while rows:\n",
    "        ids = [row[0] for row in rows] #создание списка, содержащий значения из первого столбца каждой строки rows.\n",
    "        reviews = [row[5] for row in rows] #создание списка, содержащий значения из шестого столбца каждой строки rows.\n",
    "        \n",
    "        predictions = clf.predict(reviews) #делает прогноз токсичности каждого отзыва \n",
    "        cur.executemany('UPDATE Review SET toxic = ? WHERE id = ?', zip(predictions, ids))\n",
    "        con.commit()\n",
    "        \n",
    "        cur.execute(f'SELECT * FROM Review WHERE toxic IS NULL LIMIT {batch_size}')\n",
    "        rows = cur.fetchall() #сохраняет результат выполнения запроса в rows\n",
    "    \n",
    "    \n",
    "    return pd.read_sql_query('SELECT * FROM Review', con)"
   ]
  },
  {
   "cell_type": "markdown",
   "id": "34f2123a",
   "metadata": {},
   "source": [
    "Заметка себе: zip создает иттератор , который объединяет элементы двух списков. поочередно выдает кортежи, содержащие прогнозы и соответсвующие им айдишникик. f-префикс для строк форматирования"
   ]
  },
  {
   "cell_type": "code",
   "execution_count": 13,
   "id": "e55390ba",
   "metadata": {},
   "outputs": [
    {
     "data": {
      "text/html": [
       "<div>\n",
       "<style scoped>\n",
       "    .dataframe tbody tr th:only-of-type {\n",
       "        vertical-align: middle;\n",
       "    }\n",
       "\n",
       "    .dataframe tbody tr th {\n",
       "        vertical-align: top;\n",
       "    }\n",
       "\n",
       "    .dataframe thead th {\n",
       "        text-align: right;\n",
       "    }\n",
       "</style>\n",
       "<table border=\"1\" class=\"dataframe\">\n",
       "  <thead>\n",
       "    <tr style=\"text-align: right;\">\n",
       "      <th></th>\n",
       "      <th>id</th>\n",
       "      <th>user_id</th>\n",
       "      <th>recipe_id</th>\n",
       "      <th>date</th>\n",
       "      <th>rating</th>\n",
       "      <th>review</th>\n",
       "      <th>toxic</th>\n",
       "    </tr>\n",
       "  </thead>\n",
       "  <tbody>\n",
       "    <tr>\n",
       "      <th>0</th>\n",
       "      <td>370476</td>\n",
       "      <td>21752</td>\n",
       "      <td>57993</td>\n",
       "      <td>2003-05-01</td>\n",
       "      <td>5</td>\n",
       "      <td>Last week whole sides of frozen salmon fillet ...</td>\n",
       "      <td>b'\\x01'</td>\n",
       "    </tr>\n",
       "    <tr>\n",
       "      <th>1</th>\n",
       "      <td>624300</td>\n",
       "      <td>431813</td>\n",
       "      <td>142201</td>\n",
       "      <td>2007-09-16</td>\n",
       "      <td>5</td>\n",
       "      <td>So simple and so tasty!  I used a yellow capsi...</td>\n",
       "      <td>b'\\x00'</td>\n",
       "    </tr>\n",
       "    <tr>\n",
       "      <th>2</th>\n",
       "      <td>187037</td>\n",
       "      <td>400708</td>\n",
       "      <td>252013</td>\n",
       "      <td>2008-01-10</td>\n",
       "      <td>4</td>\n",
       "      <td>Very nice breakfast HH, easy to make and yummy...</td>\n",
       "      <td>b'\\x01'</td>\n",
       "    </tr>\n",
       "    <tr>\n",
       "      <th>3</th>\n",
       "      <td>706134</td>\n",
       "      <td>2001852463</td>\n",
       "      <td>404716</td>\n",
       "      <td>2017-12-11</td>\n",
       "      <td>5</td>\n",
       "      <td>These are a favorite for the holidays and so e...</td>\n",
       "      <td>b'\\x00'</td>\n",
       "    </tr>\n",
       "    <tr>\n",
       "      <th>4</th>\n",
       "      <td>312179</td>\n",
       "      <td>95810</td>\n",
       "      <td>129396</td>\n",
       "      <td>2008-03-14</td>\n",
       "      <td>5</td>\n",
       "      <td>Excellent soup!  The tomato flavor is just gre...</td>\n",
       "      <td>b'\\x00'</td>\n",
       "    </tr>\n",
       "    <tr>\n",
       "      <th>...</th>\n",
       "      <td>...</td>\n",
       "      <td>...</td>\n",
       "      <td>...</td>\n",
       "      <td>...</td>\n",
       "      <td>...</td>\n",
       "      <td>...</td>\n",
       "      <td>...</td>\n",
       "    </tr>\n",
       "    <tr>\n",
       "      <th>126692</th>\n",
       "      <td>158736</td>\n",
       "      <td>2282344</td>\n",
       "      <td>8701</td>\n",
       "      <td>2012-06-03</td>\n",
       "      <td>0</td>\n",
       "      <td>This recipe is outstanding. I followed the rec...</td>\n",
       "      <td>b'\\x00'</td>\n",
       "    </tr>\n",
       "    <tr>\n",
       "      <th>126693</th>\n",
       "      <td>1059834</td>\n",
       "      <td>689540</td>\n",
       "      <td>222001</td>\n",
       "      <td>2008-04-08</td>\n",
       "      <td>5</td>\n",
       "      <td>Well, we were not a crowd but it was a fabulou...</td>\n",
       "      <td>b'\\x00'</td>\n",
       "    </tr>\n",
       "    <tr>\n",
       "      <th>126694</th>\n",
       "      <td>453285</td>\n",
       "      <td>2000242659</td>\n",
       "      <td>354979</td>\n",
       "      <td>2015-06-02</td>\n",
       "      <td>5</td>\n",
       "      <td>I have been a steak eater and dedicated BBQ gr...</td>\n",
       "      <td>b'\\x01'</td>\n",
       "    </tr>\n",
       "    <tr>\n",
       "      <th>126695</th>\n",
       "      <td>691207</td>\n",
       "      <td>463435</td>\n",
       "      <td>415599</td>\n",
       "      <td>2010-09-30</td>\n",
       "      <td>5</td>\n",
       "      <td>Wonderful and simple to prepare seasoning blen...</td>\n",
       "      <td>b'\\x00'</td>\n",
       "    </tr>\n",
       "    <tr>\n",
       "      <th>126696</th>\n",
       "      <td>1</td>\n",
       "      <td>1</td>\n",
       "      <td>1</td>\n",
       "      <td>2022-08-12</td>\n",
       "      <td>5</td>\n",
       "      <td>SO BAD, Really is ...</td>\n",
       "      <td>b'\\x00'</td>\n",
       "    </tr>\n",
       "  </tbody>\n",
       "</table>\n",
       "<p>126697 rows × 7 columns</p>\n",
       "</div>"
      ],
      "text/plain": [
       "             id     user_id  recipe_id        date  rating  \\\n",
       "0        370476       21752      57993  2003-05-01       5   \n",
       "1        624300      431813     142201  2007-09-16       5   \n",
       "2        187037      400708     252013  2008-01-10       4   \n",
       "3        706134  2001852463     404716  2017-12-11       5   \n",
       "4        312179       95810     129396  2008-03-14       5   \n",
       "...         ...         ...        ...         ...     ...   \n",
       "126692   158736     2282344       8701  2012-06-03       0   \n",
       "126693  1059834      689540     222001  2008-04-08       5   \n",
       "126694   453285  2000242659     354979  2015-06-02       5   \n",
       "126695   691207      463435     415599  2010-09-30       5   \n",
       "126696        1           1          1  2022-08-12       5   \n",
       "\n",
       "                                                   review    toxic  \n",
       "0       Last week whole sides of frozen salmon fillet ...  b'\\x01'  \n",
       "1       So simple and so tasty!  I used a yellow capsi...  b'\\x00'  \n",
       "2       Very nice breakfast HH, easy to make and yummy...  b'\\x01'  \n",
       "3       These are a favorite for the holidays and so e...  b'\\x00'  \n",
       "4       Excellent soup!  The tomato flavor is just gre...  b'\\x00'  \n",
       "...                                                   ...      ...  \n",
       "126692  This recipe is outstanding. I followed the rec...  b'\\x00'  \n",
       "126693  Well, we were not a crowd but it was a fabulou...  b'\\x00'  \n",
       "126694  I have been a steak eater and dedicated BBQ gr...  b'\\x01'  \n",
       "126695  Wonderful and simple to prepare seasoning blen...  b'\\x00'  \n",
       "126696                              SO BAD, Really is ...  b'\\x00'  \n",
       "\n",
       "[126697 rows x 7 columns]"
      ]
     },
     "execution_count": 13,
     "metadata": {},
     "output_type": "execute_result"
    }
   ],
   "source": [
    "classify_reviews(150, con)"
   ]
  },
  {
   "cell_type": "code",
   "execution_count": 14,
   "id": "d089b904",
   "metadata": {},
   "outputs": [],
   "source": [
    "con.commit()"
   ]
  },
  {
   "cell_type": "code",
   "execution_count": 15,
   "id": "67372785",
   "metadata": {},
   "outputs": [
    {
     "data": {
      "text/plain": [
       "<sqlite3.Cursor at 0x1c0aa89b1f0>"
      ]
     },
     "execution_count": 15,
     "metadata": {},
     "output_type": "execute_result"
    }
   ],
   "source": [
    "cur.execute(\"\"\"\n",
    "    UPDATE Review\n",
    "    SET toxic = CASE toxic\n",
    "        WHEN x'01' THEN ?\n",
    "        WHEN x'00' THEN ?\n",
    "        ELSE toxic\n",
    "    END\n",
    "\"\"\", (True, False))\n",
    "#set-обновить case-позволяет нам выполнять условные операции"
   ]
  },
  {
   "cell_type": "code",
   "execution_count": 16,
   "id": "3e6fb3b2",
   "metadata": {},
   "outputs": [
    {
     "name": "stdout",
     "output_type": "stream",
     "text": [
      "Toxic: False, Count: 63210\n",
      "Toxic: True, Count: 63487\n"
     ]
    }
   ],
   "source": [
    "cur.execute(\"SELECT toxic, COUNT(*) FROM Review GROUP BY toxic;\")\n",
    "rows = cur.fetchall()\n",
    "for row in rows:\n",
    "    toxic = bool(row[0])\n",
    "    count = row[1]\n",
    "    print(f'Toxic: {toxic}, Count: {count}')"
   ]
  },
  {
   "cell_type": "markdown",
   "id": "260ac2f2",
   "metadata": {},
   "source": [
    "<p class=\"task\" id=\"5\"></p>\n",
    "\n",
    "5\\. Создайте представление `RecipeWithYear`, в котором добавлен дополнительный столбец `year`, содержащий год даты из столбца `submitted`. Сделайте выборку из этого представления и выведите на экран количество рецептов с разбивкой по годам."
   ]
  },
  {
   "attachments": {
    "image.png": {
     "image/png": "[encoded data removed]"
    }
   },
   "cell_type": "markdown",
   "id": "a257431d",
   "metadata": {},
   "source": [
    "![image.png](attachment:image.png)"
   ]
  },
  {
   "cell_type": "markdown",
   "id": "8355db49",
   "metadata": {},
   "source": [
    "***Не знаю почему, но после 4 номера файл с БД ломается, он перестает обрабатывать запросы и из-за этого не работает 5 номер***"
   ]
  },
  {
   "cell_type": "code",
   "execution_count": 5,
   "id": "49d94e3f",
   "metadata": {},
   "outputs": [],
   "source": [
    "sql=('''CREATE VIEW RecipeWithYear AS\n",
    "SELECT *, strftime('%Y', submitted) AS year\n",
    "FROM Recipe;\n",
    "''')"
   ]
  },
  {
   "cell_type": "code",
   "execution_count": 6,
   "id": "2516e8ec",
   "metadata": {},
   "outputs": [
    {
     "data": {
      "text/plain": [
       "<sqlite3.Cursor at 0x2906cbb7f80>"
      ]
     },
     "execution_count": 6,
     "metadata": {},
     "output_type": "execute_result"
    }
   ],
   "source": [
    "cur.execute('''CREATE VIEW RecipeWithYear AS\n",
    "SELECT *, strftime('%Y', submitted) AS year\n",
    "FROM Recipe;\n",
    "''')"
   ]
  },
  {
   "cell_type": "markdown",
   "id": "16905510",
   "metadata": {},
   "source": [
    " 2)выбираются все столбцы таблицы Recipe, а также создается новый столбец year, содержащий год ('%Y') из столбца submitted"
   ]
  },
  {
   "cell_type": "code",
   "execution_count": 7,
   "id": "a8228e8d",
   "metadata": {
    "scrolled": true
   },
   "outputs": [
    {
     "data": {
      "text/plain": [
       "<sqlite3.Cursor at 0x2906cbb7f80>"
      ]
     },
     "execution_count": 7,
     "metadata": {},
     "output_type": "execute_result"
    }
   ],
   "source": [
    "cur.execute(\"SELECT year, COUNT(*) AS count FROM RecipeWithYear GROUP BY year;\") \n",
    "#запрос на выборку количества рецептов, сгруппированных по годам."
   ]
  },
  {
   "cell_type": "code",
   "execution_count": 8,
   "id": "0d5d4999",
   "metadata": {},
   "outputs": [
    {
     "data": {
      "text/html": [
       "<div>\n",
       "<style scoped>\n",
       "    .dataframe tbody tr th:only-of-type {\n",
       "        vertical-align: middle;\n",
       "    }\n",
       "\n",
       "    .dataframe tbody tr th {\n",
       "        vertical-align: top;\n",
       "    }\n",
       "\n",
       "    .dataframe thead th {\n",
       "        text-align: right;\n",
       "    }\n",
       "</style>\n",
       "<table border=\"1\" class=\"dataframe\">\n",
       "  <thead>\n",
       "    <tr style=\"text-align: right;\">\n",
       "      <th></th>\n",
       "      <th>year</th>\n",
       "      <th>count</th>\n",
       "    </tr>\n",
       "  </thead>\n",
       "  <tbody>\n",
       "    <tr>\n",
       "      <th>0</th>\n",
       "      <td>1999</td>\n",
       "      <td>275</td>\n",
       "    </tr>\n",
       "    <tr>\n",
       "      <th>1</th>\n",
       "      <td>2000</td>\n",
       "      <td>104</td>\n",
       "    </tr>\n",
       "    <tr>\n",
       "      <th>2</th>\n",
       "      <td>2001</td>\n",
       "      <td>589</td>\n",
       "    </tr>\n",
       "    <tr>\n",
       "      <th>3</th>\n",
       "      <td>2002</td>\n",
       "      <td>2644</td>\n",
       "    </tr>\n",
       "    <tr>\n",
       "      <th>4</th>\n",
       "      <td>2003</td>\n",
       "      <td>2334</td>\n",
       "    </tr>\n",
       "    <tr>\n",
       "      <th>5</th>\n",
       "      <td>2004</td>\n",
       "      <td>2153</td>\n",
       "    </tr>\n",
       "    <tr>\n",
       "      <th>6</th>\n",
       "      <td>2005</td>\n",
       "      <td>3130</td>\n",
       "    </tr>\n",
       "    <tr>\n",
       "      <th>7</th>\n",
       "      <td>2006</td>\n",
       "      <td>3473</td>\n",
       "    </tr>\n",
       "    <tr>\n",
       "      <th>8</th>\n",
       "      <td>2007</td>\n",
       "      <td>4429</td>\n",
       "    </tr>\n",
       "    <tr>\n",
       "      <th>9</th>\n",
       "      <td>2008</td>\n",
       "      <td>4029</td>\n",
       "    </tr>\n",
       "    <tr>\n",
       "      <th>10</th>\n",
       "      <td>2009</td>\n",
       "      <td>2963</td>\n",
       "    </tr>\n",
       "    <tr>\n",
       "      <th>11</th>\n",
       "      <td>2010</td>\n",
       "      <td>1538</td>\n",
       "    </tr>\n",
       "    <tr>\n",
       "      <th>12</th>\n",
       "      <td>2011</td>\n",
       "      <td>922</td>\n",
       "    </tr>\n",
       "    <tr>\n",
       "      <th>13</th>\n",
       "      <td>2012</td>\n",
       "      <td>659</td>\n",
       "    </tr>\n",
       "    <tr>\n",
       "      <th>14</th>\n",
       "      <td>2013</td>\n",
       "      <td>490</td>\n",
       "    </tr>\n",
       "    <tr>\n",
       "      <th>15</th>\n",
       "      <td>2014</td>\n",
       "      <td>139</td>\n",
       "    </tr>\n",
       "    <tr>\n",
       "      <th>16</th>\n",
       "      <td>2015</td>\n",
       "      <td>42</td>\n",
       "    </tr>\n",
       "    <tr>\n",
       "      <th>17</th>\n",
       "      <td>2016</td>\n",
       "      <td>24</td>\n",
       "    </tr>\n",
       "    <tr>\n",
       "      <th>18</th>\n",
       "      <td>2017</td>\n",
       "      <td>39</td>\n",
       "    </tr>\n",
       "    <tr>\n",
       "      <th>19</th>\n",
       "      <td>2018</td>\n",
       "      <td>24</td>\n",
       "    </tr>\n",
       "  </tbody>\n",
       "</table>\n",
       "</div>"
      ],
      "text/plain": [
       "    year  count\n",
       "0   1999    275\n",
       "1   2000    104\n",
       "2   2001    589\n",
       "3   2002   2644\n",
       "4   2003   2334\n",
       "5   2004   2153\n",
       "6   2005   3130\n",
       "7   2006   3473\n",
       "8   2007   4429\n",
       "9   2008   4029\n",
       "10  2009   2963\n",
       "11  2010   1538\n",
       "12  2011    922\n",
       "13  2012    659\n",
       "14  2013    490\n",
       "15  2014    139\n",
       "16  2015     42\n",
       "17  2016     24\n",
       "18  2017     39\n",
       "19  2018     24"
      ]
     },
     "execution_count": 8,
     "metadata": {},
     "output_type": "execute_result"
    }
   ],
   "source": [
    "pd.read_sql_query('SELECT year, COUNT(*) AS count FROM RecipeWithYear GROUP BY year;', con)"
   ]
  },
  {
   "cell_type": "markdown",
   "id": "7f31d833",
   "metadata": {},
   "source": [
    "<p class=\"task\" id=\"6\"></p>\n",
    "\n",
    "6\\. Напишите запрос на языке SQL, который возвращает все строки из таблицы `Recipe` с дополнительным столбцом, содержащем номер рецепта. Рецепты нумеруются целыми числами, начиная с 1, в __рамках каждого года__ в порядке их добавления в БД (столбец `submitted`). Получите результат в виде `pd.DataFrame`. Посчитайте и выведите на экран количество строк полученного `pd.DataFrame`, для которых сгенерированный номер кратен 50."
   ]
  },
  {
   "cell_type": "markdown",
   "id": "40a627f3",
   "metadata": {},
   "source": [
    "row_number() нумерует строки в каждой группе, созданной разбиением (partition) таблицы Recipe на группы по году "
   ]
  },
  {
   "cell_type": "code",
   "execution_count": 15,
   "id": "07af90cd",
   "metadata": {},
   "outputs": [
    {
     "data": {
      "text/html": [
       "<div>\n",
       "<style scoped>\n",
       "    .dataframe tbody tr th:only-of-type {\n",
       "        vertical-align: middle;\n",
       "    }\n",
       "\n",
       "    .dataframe tbody tr th {\n",
       "        vertical-align: top;\n",
       "    }\n",
       "\n",
       "    .dataframe thead th {\n",
       "        text-align: right;\n",
       "    }\n",
       "</style>\n",
       "<table border=\"1\" class=\"dataframe\">\n",
       "  <thead>\n",
       "    <tr style=\"text-align: right;\">\n",
       "      <th></th>\n",
       "      <th>id</th>\n",
       "      <th>name</th>\n",
       "      <th>minutes</th>\n",
       "      <th>submitted</th>\n",
       "      <th>description</th>\n",
       "      <th>n_ingredients</th>\n",
       "      <th>nuber</th>\n",
       "    </tr>\n",
       "  </thead>\n",
       "  <tbody>\n",
       "    <tr>\n",
       "      <th>0</th>\n",
       "      <td>3441</td>\n",
       "      <td>30 minute smoked sausage and corn chowder</td>\n",
       "      <td>30</td>\n",
       "      <td>1999-10-18</td>\n",
       "      <td>i love corn chowder, have a pot on now! recipe...</td>\n",
       "      <td>8.0</td>\n",
       "      <td>1</td>\n",
       "    </tr>\n",
       "    <tr>\n",
       "      <th>1</th>\n",
       "      <td>4205</td>\n",
       "      <td>alfredo fettuccine</td>\n",
       "      <td>25</td>\n",
       "      <td>1999-11-09</td>\n",
       "      <td>recipe from the olive garden cookbook</td>\n",
       "      <td>5.0</td>\n",
       "      <td>2</td>\n",
       "    </tr>\n",
       "    <tr>\n",
       "      <th>2</th>\n",
       "      <td>3258</td>\n",
       "      <td>alfredo sauce with pasta</td>\n",
       "      <td>0</td>\n",
       "      <td>1999-10-10</td>\n",
       "      <td>None</td>\n",
       "      <td>6.0</td>\n",
       "      <td>3</td>\n",
       "    </tr>\n",
       "    <tr>\n",
       "      <th>3</th>\n",
       "      <td>153</td>\n",
       "      <td>amish friendship bread and starter</td>\n",
       "      <td>70</td>\n",
       "      <td>1999-09-06</td>\n",
       "      <td>many recipes have been posted for the amish br...</td>\n",
       "      <td>12.0</td>\n",
       "      <td>4</td>\n",
       "    </tr>\n",
       "    <tr>\n",
       "      <th>4</th>\n",
       "      <td>5197</td>\n",
       "      <td>anytime cheese ball</td>\n",
       "      <td>0</td>\n",
       "      <td>1999-12-15</td>\n",
       "      <td>None</td>\n",
       "      <td>5.0</td>\n",
       "      <td>5</td>\n",
       "    </tr>\n",
       "    <tr>\n",
       "      <th>...</th>\n",
       "      <td>...</td>\n",
       "      <td>...</td>\n",
       "      <td>...</td>\n",
       "      <td>...</td>\n",
       "      <td>...</td>\n",
       "      <td>...</td>\n",
       "      <td>...</td>\n",
       "    </tr>\n",
       "    <tr>\n",
       "      <th>29995</th>\n",
       "      <td>535269</td>\n",
       "      <td>sweet tea baby back ribs</td>\n",
       "      <td>1560</td>\n",
       "      <td>2018-03-05</td>\n",
       "      <td>courtesy of deborah van treece, twisted soul</td>\n",
       "      <td>14.0</td>\n",
       "      <td>20</td>\n",
       "    </tr>\n",
       "    <tr>\n",
       "      <th>29996</th>\n",
       "      <td>535555</td>\n",
       "      <td>the best ground beef tacos on the planet</td>\n",
       "      <td>55</td>\n",
       "      <td>2018-04-09</td>\n",
       "      <td>ok, i might be a bit over confident in the tit...</td>\n",
       "      <td>13.0</td>\n",
       "      <td>21</td>\n",
       "    </tr>\n",
       "    <tr>\n",
       "      <th>29997</th>\n",
       "      <td>535389</td>\n",
       "      <td>vietnamese chicken</td>\n",
       "      <td>50</td>\n",
       "      <td>2018-03-20</td>\n",
       "      <td>vietnamese chicken with ginger.</td>\n",
       "      <td>11.0</td>\n",
       "      <td>22</td>\n",
       "    </tr>\n",
       "    <tr>\n",
       "      <th>29998</th>\n",
       "      <td>534786</td>\n",
       "      <td>white bean and chicken chili</td>\n",
       "      <td>50</td>\n",
       "      <td>2018-01-02</td>\n",
       "      <td>most recipes for white bean and chicken chilie...</td>\n",
       "      <td>11.0</td>\n",
       "      <td>23</td>\n",
       "    </tr>\n",
       "    <tr>\n",
       "      <th>29999</th>\n",
       "      <td>536066</td>\n",
       "      <td>widow s soup</td>\n",
       "      <td>50</td>\n",
       "      <td>2018-06-25</td>\n",
       "      <td>traditional maltese soup. cheese is supposed t...</td>\n",
       "      <td>NaN</td>\n",
       "      <td>24</td>\n",
       "    </tr>\n",
       "  </tbody>\n",
       "</table>\n",
       "<p>30000 rows × 7 columns</p>\n",
       "</div>"
      ],
      "text/plain": [
       "           id                                       name  minutes   submitted  \\\n",
       "0        3441  30 minute smoked sausage and corn chowder       30  1999-10-18   \n",
       "1        4205                         alfredo fettuccine       25  1999-11-09   \n",
       "2        3258                   alfredo sauce with pasta        0  1999-10-10   \n",
       "3         153         amish friendship bread and starter       70  1999-09-06   \n",
       "4        5197                        anytime cheese ball        0  1999-12-15   \n",
       "...       ...                                        ...      ...         ...   \n",
       "29995  535269                   sweet tea baby back ribs     1560  2018-03-05   \n",
       "29996  535555   the best ground beef tacos on the planet       55  2018-04-09   \n",
       "29997  535389                         vietnamese chicken       50  2018-03-20   \n",
       "29998  534786               white bean and chicken chili       50  2018-01-02   \n",
       "29999  536066                               widow s soup       50  2018-06-25   \n",
       "\n",
       "                                             description  n_ingredients  nuber  \n",
       "0      i love corn chowder, have a pot on now! recipe...            8.0      1  \n",
       "1                  recipe from the olive garden cookbook            5.0      2  \n",
       "2                                                   None            6.0      3  \n",
       "3      many recipes have been posted for the amish br...           12.0      4  \n",
       "4                                                   None            5.0      5  \n",
       "...                                                  ...            ...    ...  \n",
       "29995       courtesy of deborah van treece, twisted soul           14.0     20  \n",
       "29996  ok, i might be a bit over confident in the tit...           13.0     21  \n",
       "29997                    vietnamese chicken with ginger.           11.0     22  \n",
       "29998  most recipes for white bean and chicken chilie...           11.0     23  \n",
       "29999  traditional maltese soup. cheese is supposed t...            NaN     24  \n",
       "\n",
       "[30000 rows x 7 columns]"
      ]
     },
     "execution_count": 15,
     "metadata": {},
     "output_type": "execute_result"
    }
   ],
   "source": [
    "sql=\"SELECT *,row_number() OVER (partition by strftime('%Y',submitted)) AS nuber from Recipe\"\n",
    "data=pd.read_sql_query(sql,con)\n",
    "data"
   ]
  },
  {
   "cell_type": "code",
   "execution_count": 16,
   "id": "b92c9635",
   "metadata": {},
   "outputs": [
    {
     "data": {
      "text/html": [
       "<div>\n",
       "<style scoped>\n",
       "    .dataframe tbody tr th:only-of-type {\n",
       "        vertical-align: middle;\n",
       "    }\n",
       "\n",
       "    .dataframe tbody tr th {\n",
       "        vertical-align: top;\n",
       "    }\n",
       "\n",
       "    .dataframe thead th {\n",
       "        text-align: right;\n",
       "    }\n",
       "</style>\n",
       "<table border=\"1\" class=\"dataframe\">\n",
       "  <thead>\n",
       "    <tr style=\"text-align: right;\">\n",
       "      <th></th>\n",
       "      <th>id</th>\n",
       "      <th>name</th>\n",
       "      <th>minutes</th>\n",
       "      <th>submitted</th>\n",
       "      <th>description</th>\n",
       "      <th>n_ingredients</th>\n",
       "      <th>nuber</th>\n",
       "    </tr>\n",
       "  </thead>\n",
       "  <tbody>\n",
       "    <tr>\n",
       "      <th>49</th>\n",
       "      <td>3803</td>\n",
       "      <td>cheese straws with rice krispies</td>\n",
       "      <td>55</td>\n",
       "      <td>1999-11-10</td>\n",
       "      <td>yum</td>\n",
       "      <td>NaN</td>\n",
       "      <td>50</td>\n",
       "    </tr>\n",
       "    <tr>\n",
       "      <th>99</th>\n",
       "      <td>1662</td>\n",
       "      <td>diabetic carrot raisin salad</td>\n",
       "      <td>125</td>\n",
       "      <td>1999-09-30</td>\n",
       "      <td>None</td>\n",
       "      <td>4.0</td>\n",
       "      <td>100</td>\n",
       "    </tr>\n",
       "    <tr>\n",
       "      <th>149</th>\n",
       "      <td>4135</td>\n",
       "      <td>jack daniel s marinade</td>\n",
       "      <td>60</td>\n",
       "      <td>1999-11-07</td>\n",
       "      <td>i guess you could just add cooked shrimp after...</td>\n",
       "      <td>8.0</td>\n",
       "      <td>150</td>\n",
       "    </tr>\n",
       "    <tr>\n",
       "      <th>199</th>\n",
       "      <td>2804</td>\n",
       "      <td>peach sour cream pie</td>\n",
       "      <td>0</td>\n",
       "      <td>1999-08-21</td>\n",
       "      <td>None</td>\n",
       "      <td>8.0</td>\n",
       "      <td>200</td>\n",
       "    </tr>\n",
       "    <tr>\n",
       "      <th>249</th>\n",
       "      <td>4706</td>\n",
       "      <td>takefumi rice</td>\n",
       "      <td>18</td>\n",
       "      <td>1999-12-01</td>\n",
       "      <td>None</td>\n",
       "      <td>NaN</td>\n",
       "      <td>250</td>\n",
       "    </tr>\n",
       "    <tr>\n",
       "      <th>...</th>\n",
       "      <td>...</td>\n",
       "      <td>...</td>\n",
       "      <td>...</td>\n",
       "      <td>...</td>\n",
       "      <td>...</td>\n",
       "      <td>...</td>\n",
       "      <td>...</td>\n",
       "    </tr>\n",
       "    <tr>\n",
       "      <th>29591</th>\n",
       "      <td>494403</td>\n",
       "      <td>peppered herb flank steak</td>\n",
       "      <td>35</td>\n",
       "      <td>2013-01-29</td>\n",
       "      <td>this is adapted from a recipe in simply classi...</td>\n",
       "      <td>NaN</td>\n",
       "      <td>350</td>\n",
       "    </tr>\n",
       "    <tr>\n",
       "      <th>29641</th>\n",
       "      <td>497588</td>\n",
       "      <td>scalloped potatoes and ham   pioneer woman</td>\n",
       "      <td>80</td>\n",
       "      <td>2013-03-14</td>\n",
       "      <td>once again ree drummond hits it out of the bal...</td>\n",
       "      <td>11.0</td>\n",
       "      <td>400</td>\n",
       "    </tr>\n",
       "    <tr>\n",
       "      <th>29691</th>\n",
       "      <td>500022</td>\n",
       "      <td>taiwanese walnut cookies</td>\n",
       "      <td>55</td>\n",
       "      <td>2013-05-08</td>\n",
       "      <td>taiwanese walnut cookies are very nutty and ri...</td>\n",
       "      <td>7.0</td>\n",
       "      <td>450</td>\n",
       "    </tr>\n",
       "    <tr>\n",
       "      <th>29781</th>\n",
       "      <td>513160</td>\n",
       "      <td>easy cherry pie bars</td>\n",
       "      <td>50</td>\n",
       "      <td>2014-02-09</td>\n",
       "      <td>from the budget101.com website...\\r\\n\\r\\nmy fa...</td>\n",
       "      <td>10.0</td>\n",
       "      <td>50</td>\n",
       "    </tr>\n",
       "    <tr>\n",
       "      <th>29831</th>\n",
       "      <td>516252</td>\n",
       "      <td>potato salad with pancetta  rosemary  and lemon</td>\n",
       "      <td>47</td>\n",
       "      <td>2014-05-29</td>\n",
       "      <td>lemon peel and lemon juice, rosemary, and an o...</td>\n",
       "      <td>11.0</td>\n",
       "      <td>100</td>\n",
       "    </tr>\n",
       "  </tbody>\n",
       "</table>\n",
       "<p>589 rows × 7 columns</p>\n",
       "</div>"
      ],
      "text/plain": [
       "           id                                             name  minutes  \\\n",
       "49       3803                 cheese straws with rice krispies       55   \n",
       "99       1662                     diabetic carrot raisin salad      125   \n",
       "149      4135                           jack daniel s marinade       60   \n",
       "199      2804                             peach sour cream pie        0   \n",
       "249      4706                                    takefumi rice       18   \n",
       "...       ...                                              ...      ...   \n",
       "29591  494403                        peppered herb flank steak       35   \n",
       "29641  497588       scalloped potatoes and ham   pioneer woman       80   \n",
       "29691  500022                         taiwanese walnut cookies       55   \n",
       "29781  513160                             easy cherry pie bars       50   \n",
       "29831  516252  potato salad with pancetta  rosemary  and lemon       47   \n",
       "\n",
       "        submitted                                        description  \\\n",
       "49     1999-11-10                                                yum   \n",
       "99     1999-09-30                                               None   \n",
       "149    1999-11-07  i guess you could just add cooked shrimp after...   \n",
       "199    1999-08-21                                               None   \n",
       "249    1999-12-01                                               None   \n",
       "...           ...                                                ...   \n",
       "29591  2013-01-29  this is adapted from a recipe in simply classi...   \n",
       "29641  2013-03-14  once again ree drummond hits it out of the bal...   \n",
       "29691  2013-05-08  taiwanese walnut cookies are very nutty and ri...   \n",
       "29781  2014-02-09  from the budget101.com website...\\r\\n\\r\\nmy fa...   \n",
       "29831  2014-05-29  lemon peel and lemon juice, rosemary, and an o...   \n",
       "\n",
       "       n_ingredients  nuber  \n",
       "49               NaN     50  \n",
       "99               4.0    100  \n",
       "149              8.0    150  \n",
       "199              8.0    200  \n",
       "249              NaN    250  \n",
       "...              ...    ...  \n",
       "29591            NaN    350  \n",
       "29641           11.0    400  \n",
       "29691            7.0    450  \n",
       "29781           10.0     50  \n",
       "29831           11.0    100  \n",
       "\n",
       "[589 rows x 7 columns]"
      ]
     },
     "execution_count": 16,
     "metadata": {},
     "output_type": "execute_result"
    }
   ],
   "source": [
    "data[data['nuber']%50 == 0]"
   ]
  },
  {
   "cell_type": "markdown",
   "id": "e76fde29",
   "metadata": {},
   "source": [
    "<p class=\"task\" id=\"7\"></p>\n",
    "\n",
    "7\\. Используя обобщенное табличное выражение и решение задачи 6, напишите запрос на языке SQL, который вернет количество строк, для которых сгенерированный номер кратен 50. Выполните запрос и выведите количество таких строк на экран."
   ]
  },
  {
   "cell_type": "code",
   "execution_count": 26,
   "id": "c98a575e",
   "metadata": {},
   "outputs": [],
   "source": [
    "sql='''\n",
    "WITH zapros AS\n",
    "    (SELECT *,row_number() OVER (partition by strftime('%Y',submitted)) AS nuber from Recipe)\n",
    "\n",
    "SELECT COUNT(*)\n",
    "FROM zapros\n",
    "WHERE nuber %50=0\n",
    "'''"
   ]
  },
  {
   "cell_type": "code",
   "execution_count": 27,
   "id": "b5504c65",
   "metadata": {},
   "outputs": [
    {
     "data": {
      "text/html": [
       "<div>\n",
       "<style scoped>\n",
       "    .dataframe tbody tr th:only-of-type {\n",
       "        vertical-align: middle;\n",
       "    }\n",
       "\n",
       "    .dataframe tbody tr th {\n",
       "        vertical-align: top;\n",
       "    }\n",
       "\n",
       "    .dataframe thead th {\n",
       "        text-align: right;\n",
       "    }\n",
       "</style>\n",
       "<table border=\"1\" class=\"dataframe\">\n",
       "  <thead>\n",
       "    <tr style=\"text-align: right;\">\n",
       "      <th></th>\n",
       "      <th>COUNT(*)</th>\n",
       "    </tr>\n",
       "  </thead>\n",
       "  <tbody>\n",
       "    <tr>\n",
       "      <th>0</th>\n",
       "      <td>589</td>\n",
       "    </tr>\n",
       "  </tbody>\n",
       "</table>\n",
       "</div>"
      ],
      "text/plain": [
       "   COUNT(*)\n",
       "0       589"
      ]
     },
     "execution_count": 27,
     "metadata": {},
     "output_type": "execute_result"
    }
   ],
   "source": [
    "pd.read_sql_query(sql,con)"
   ]
  },
  {
   "cell_type": "code",
   "execution_count": null,
   "id": "9680eaeb",
   "metadata": {},
   "outputs": [],
   "source": []
  }
 ],
 "metadata": {
  "kernelspec": {
   "display_name": "Python 3",
   "language": "python",
   "name": "python3"
  },
  "language_info": {
   "codemirror_mode": {
    "name": "ipython",
    "version": 3
   },
   "file_extension": ".py",
   "mimetype": "text/x-python",
   "name": "python",
   "nbconvert_exporter": "python",
   "pygments_lexer": "ipython3",
   "version": "3.8.8"
  }
 },
 "nbformat": 4,
 "nbformat_minor": 5
}
