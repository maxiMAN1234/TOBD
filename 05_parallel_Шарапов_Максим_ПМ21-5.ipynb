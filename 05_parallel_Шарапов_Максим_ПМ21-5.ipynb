{
 "cells": [
  {
   "cell_type": "markdown",
   "metadata": {},
   "source": [
    "# Параллельные вычисления (1)"
   ]
  },
  {
   "cell_type": "markdown",
   "metadata": {},
   "source": [
    "__Автор задач: Блохин Н.В. (NVBlokhin@fa.ru)__\n",
    "\n",
    "Материалы:\n",
    "* Макрушин С.В. Лекция \"Параллельные вычисления\"\n",
    "* https://docs.python.org/3/library/multiprocessing.html\n",
    "    * https://docs.python.org/3/library/multiprocessing.html#multiprocessing.Process\n",
    "    * https://docs.python.org/3/library/multiprocessing.html#multiprocessing.pool.Pool\n",
    "    * https://docs.python.org/3/library/multiprocessing.html#multiprocessing.Queue\n",
    "* https://pandas.pydata.org/docs/reference/api/pandas.read_csv.html\n",
    "* https://numpy.org/doc/stable/reference/generated/numpy.array_split.html"
   ]
  },
  {
   "cell_type": "markdown",
   "metadata": {},
   "source": [
    "## Задачи для совместного разбора"
   ]
  },
  {
   "cell_type": "markdown",
   "metadata": {},
   "source": [
    "1. Посчитайте, сколько раз встречается буква \"a\" в файлах [\"xaa\", \"xab\", \"xac\", \"xad\"], используя пул процессов."
   ]
  },
  {
   "cell_type": "code",
   "execution_count": 24,
   "metadata": {},
   "outputs": [],
   "source": [
    "import multiprocessing\n",
    "import pandas as pd"
   ]
  },
  {
   "cell_type": "markdown",
   "metadata": {},
   "source": [
    "2. Посчитайте, сколько раз встречается буква \"a\" в файлах [\"xaa\", \"xab\", \"xac\", \"xad\"], используя процессы и очереди."
   ]
  },
  {
   "cell_type": "markdown",
   "metadata": {},
   "source": [
    "## Лабораторная работа 5"
   ]
  },
  {
   "cell_type": "markdown",
   "metadata": {},
   "source": [
    "__При решении данных задач не подразумевается использования циклов или генераторов Python в ходе работы с пакетами `numpy` и `pandas`, если в задании не сказано обратного. Решения задач, в которых для обработки массивов `numpy` или структур `pandas` используются явные циклы (без согласования с преподавателем), могут быть признаны некорректными и не засчитаны.__"
   ]
  },
  {
   "cell_type": "markdown",
   "metadata": {},
   "source": [
    "<p class=\"task\" id=\"1\"></p>\n",
    "\n",
    "1\\. В каждой строке файла `tag_nsteps.csv` хранится информация о тэге рецепта и количестве шагов в этом рецепте в следующем виде:\n",
    "\n",
    "```\n",
    "tags,n_steps\n",
    "hungarian,2\n",
    "european,6\n",
    "occasion,4\n",
    "pumpkin,4\n",
    "................\n",
    "```\n",
    "\n",
    "Всего в исходном файле хранится чуть меньше, чем 71 млн, строк. Разбейте файл `tag_nsteps.csv` на несколько (например, 8) примерно одинаковых по объему файлов c названиями `tag_nsteps_*.csv`, где вместо символа `*` указан номер очередного файла. Каждый файл имеет структуру, аналогичную оригинальному файлу (включая заголовок). \n",
    "\n",
    "При создании файлов выводите на экран сообщения следующего вида:\n",
    "`file: <название файла> #rows: <кол-во строк в этом файле>`\n",
    "\n",
    "__Важно__: здесь и далее вы не можете загружать в память весь исходный файл сразу. "
   ]
  },
  {
   "cell_type": "code",
   "execution_count": 4,
   "metadata": {},
   "outputs": [
    {
     "name": "stdout",
     "output_type": "stream",
     "text": [
      "Создание файла: tag_nsteps_0.csv в котором 8875000 строк\n",
      "Создание файла: tag_nsteps_1.csv в котором 8875000 строк\n",
      "Создание файла: tag_nsteps_2.csv в котором 8875000 строк\n",
      "Создание файла: tag_nsteps_3.csv в котором 8875000 строк\n",
      "Создание файла: tag_nsteps_4.csv в котором 8875000 строк\n",
      "Создание файла: tag_nsteps_5.csv в котором 8875000 строк\n",
      "Создание файла: tag_nsteps_6.csv в котором 8875000 строк\n",
      "Создание файла: tag_nsteps_7.csv в котором 8570585 строк\n"
     ]
    }
   ],
   "source": [
    "old_file = 'tag_nsteps.csv'\n",
    "num_parts = 8\n",
    "for i, chunk in enumerate(pd.read_csv(old_file, chunksize=int(71000000/num_parts))):\n",
    "    new_file = f'tag_nsteps_{i}.csv'\n",
    "    chunk.to_csv(new_file, index=False)\n",
    "    print('Создание файла:', new_file, 'в котором', len(chunk),'строк')"
   ]
  },
  {
   "cell_type": "markdown",
   "metadata": {},
   "source": [
    "<p class=\"task\" id=\"2\"></p>\n",
    "\n",
    "2\\. Напишите функцию, которая принимает на вход название файла, созданного в результате решения задачи 1, считает для каждого тэга сумму по столбцу `n_steps` и количество строк c этим тэгом, и возвращает результат в виде словаря. Ожидаемый вид итогового словаря:\n",
    "\n",
    "```\n",
    "{\n",
    "    '1-day-or-more': {'sum': 56616, 'count': 12752},\n",
    "    '15-minutes-or-less': {'sum': 195413, 'count': 38898},\n",
    "    '3-steps-or-less': {'sum': 187938, 'count': 39711},\n",
    "    ....\n",
    "}\n",
    "```\n",
    "\n",
    "Примените данную функцию к каждому файлу, полученному в задании 1, и соберите результат в виде списка словарей. Не используйте параллельных вычислений. \n",
    "\n",
    "Выведите на экран значение по ключу \"30-minutes-or-less\" для каждого из словарей."
   ]
  },
  {
   "cell_type": "code",
   "execution_count": 5,
   "metadata": {},
   "outputs": [],
   "source": [
    "def get_tag_sum_count_from_file(file: str) -> dict:\n",
    "    df = pd.read_csv(file)\n",
    "    tag_stats = df.groupby('tags').agg({'n_steps': ['sum', 'count']}) # группируем данные по тэгам и вычисляем сумму и количество строк для каждого тэга\n",
    "    \n",
    "    result = {}\n",
    "    for tag, (sum_, count) in tag_stats.iterrows():\n",
    "        result[tag] = {'sum': sum_, 'count': count}\n",
    "    \n",
    "    return result"
   ]
  },
  {
   "cell_type": "markdown",
   "metadata": {},
   "source": [
    "агрегирования - это функция, которая принимает несколько отдельных значений и возвращает сводные данные."
   ]
  },
  {
   "attachments": {
    "image.png": {
     "image/png": "[encoded data removed]"
    }
   },
   "cell_type": "markdown",
   "metadata": {},
   "source": [
    "![image.png](attachment:image.png)"
   ]
  },
  {
   "cell_type": "code",
   "execution_count": 6,
   "metadata": {},
   "outputs": [
    {
     "name": "stdout",
     "output_type": "stream",
     "text": [
      "tag_nsteps 0 {'sum': 348943, 'count': 45605}\n",
      "tag_nsteps 1 {'sum': 350194, 'count': 46053}\n",
      "tag_nsteps 2 {'sum': 353624, 'count': 46295}\n",
      "tag_nsteps 3 {'sum': 347697, 'count': 45621}\n",
      "tag_nsteps 4 {'sum': 346528, 'count': 45650}\n",
      "tag_nsteps 5 {'sum': 350333, 'count': 46014}\n",
      "tag_nsteps 6 {'sum': 346536, 'count': 45814}\n",
      "tag_nsteps 7 {'sum': 339350, 'count': 44730}\n"
     ]
    }
   ],
   "source": [
    "files = ['tag_nsteps_{}.csv'.format(i) for i in range(8)]\n",
    "results = []\n",
    "for file in files:\n",
    "    result = get_tag_sum_count_from_file(file)\n",
    "    results.append(result)\n",
    "    \n",
    "for i, result in enumerate(results):\n",
    "    value = result.get('30-minutes-or-less')\n",
    "    print('tag_nsteps',i,value)"
   ]
  },
  {
   "cell_type": "markdown",
   "metadata": {},
   "source": [
    "<p class=\"task\" id=\"3\"></p>\n",
    "\n",
    "3\\. Напишите функцию, которая объединяет результаты обработки отдельных файлов. Данная функция принимает на вход список словарей, каждый из которых является результатом вызова функции `get_tag_sum_count_from_file` для конкретного файла, и агрегирует эти словари. Не используйте параллельных вычислений.\n",
    "\n",
    "Процедура агрегации словарей имеет следующий вид:\n",
    "$$d_{agg}[k] = \\{sum: \\sum_{i=1}^{n}d_{i}[k][sum], count: \\sum_{i=1}^{n}d_{i}[k][count]\\}$$\n",
    "где $d_1, d_2, ..., d_n$- результат вызова функции `get_tag_sum_count_from_file` для конкретных файлов.\n",
    "\n",
    "Примените данную функцию к результату выполнения задания 2. Выведите на экран результат для тэга \"30-minutes-or-less\"."
   ]
  },
  {
   "cell_type": "code",
   "execution_count": 7,
   "metadata": {},
   "outputs": [
    {
     "name": "stdout",
     "output_type": "stream",
     "text": [
      "{'sum': 2783205, 'count': 365782}\n"
     ]
    }
   ],
   "source": [
    "def agg_results(tag_sum_count_list: list) -> dict:\n",
    "    agg_dict = {}\n",
    "    for tag_stats in tag_sum_count_list:\n",
    "        for tag, stats in tag_stats.items():\n",
    "            if tag not in agg_dict:\n",
    "                agg_dict[tag] = {'sum': 0, 'count': 0}\n",
    "            agg_dict[tag]['sum'] += stats['sum']\n",
    "            agg_dict[tag]['count'] += stats['count']\n",
    "    return agg_dict\n",
    "\n",
    "tag_sum_count_list = []\n",
    "for i in range(8):\n",
    "    filename = f\"tag_nsteps_{i}.csv\"\n",
    "    tag_sum_count = get_tag_sum_count_from_file(filename)\n",
    "    tag_sum_count_list.append(tag_sum_count)\n",
    "\n",
    "agg_dict = agg_results(tag_sum_count_list)\n",
    "print(agg_dict['30-minutes-or-less'])"
   ]
  },
  {
   "cell_type": "markdown",
   "metadata": {},
   "source": [
    "<p class=\"task\" id=\"4\"></p>\n",
    "\n",
    "4\\. Напишите функцию, которая считает среднее значение количества шагов для каждого тэга в словаре. Используйте решения задач 1-3, чтобы получить среднее значение количества шагов каждого тэга для всего датасета, имея результаты обработки частей датасета и результат их агрегации. Выведите на экран результат для тэга \"30-minutes-or-less\".\n",
    "\n",
    "Определите, за какое время задача решается для всего датасета. При замере времени учитывайте время расчета статистики для каждого файла, агрегации результатов и, собственно, вычисления средного. Временем, затрачиваемым на процедуру разбиения исходного файла, можно пренебречь."
   ]
  },
  {
   "cell_type": "code",
   "execution_count": 8,
   "metadata": {},
   "outputs": [],
   "source": [
    "#def get_tag_mean_n_steps(tag_sum_count: dict) -> dict:\n",
    "    #tag_mean = agg_dict['30-minutes-or-less']['sum'] / agg_dict['30-minutes-or-less']['count']\n",
    "    #return tag_mean"
   ]
  },
  {
   "cell_type": "code",
   "execution_count": 57,
   "metadata": {},
   "outputs": [
    {
     "name": "stdout",
     "output_type": "stream",
     "text": [
      "Wall time: 0 ns\n"
     ]
    },
    {
     "data": {
      "text/plain": [
       "7.608917333275011"
      ]
     },
     "execution_count": 57,
     "metadata": {},
     "output_type": "execute_result"
    }
   ],
   "source": [
    "#%%time\n",
    "#get_tag_mean_n_steps(tag_sum_count)"
   ]
  },
  {
   "cell_type": "code",
   "execution_count": 9,
   "metadata": {},
   "outputs": [],
   "source": [
    "def get_mean_tag_nsteps(tag_sum_count_dict: dict) -> dict:\n",
    "    result = {}\n",
    "    for tag, stats in tag_sum_count_dict.items():\n",
    "        result[tag] = stats['sum'] / stats['count']\n",
    "    return result"
   ]
  },
  {
   "cell_type": "code",
   "execution_count": 10,
   "metadata": {},
   "outputs": [
    {
     "name": "stdout",
     "output_type": "stream",
     "text": [
      "Wall time: 37.6 s\n"
     ]
    },
    {
     "data": {
      "text/plain": [
       "7.608917333275011"
      ]
     },
     "execution_count": 10,
     "metadata": {},
     "output_type": "execute_result"
    }
   ],
   "source": [
    "%%time\n",
    "tag_sum_count_list = []\n",
    "for i in range(8):\n",
    "    filename = f\"tag_nsteps_{i}.csv\"\n",
    "    tag_sum_count = get_tag_sum_count_from_file(filename)\n",
    "    tag_sum_count_list.append(tag_sum_count)\n",
    "\n",
    "# агрегируем результаты\n",
    "agg_dict = agg_results(tag_sum_count_list)\n",
    "\n",
    "mean_dict = get_mean_tag_nsteps(agg_dict)\n",
    "mean_dict['30-minutes-or-less']"
   ]
  },
  {
   "cell_type": "markdown",
   "metadata": {},
   "source": [
    "<p class=\"task\" id=\"5\"></p>\n",
    "\n",
    "5\\. Повторите решение задачи 4, распараллелив вызовы функции `get_tag_sum_count_from_file` для различных файлов с помощью `multiprocessing.Pool`. Для обработки каждого файла создайте свой собственный процесс. Выведите на экран результат для тэга \"30-minutes-or-less\". Определите, за какое время задача решается для всех файлов. При замере времени учитывайте время расчета статистики для каждого файла, агрегации результатов и, собственно, вычисления средного. Временем, затрачиваемым на процедуру разбиения исходного файла можно пренебречь."
   ]
  },
  {
   "cell_type": "code",
   "execution_count": null,
   "metadata": {},
   "outputs": [],
   "source": [
    "files = ['tag_nsteps_{}.csv'.format(i) for i in range(8)]"
   ]
  },
  {
   "cell_type": "code",
   "execution_count": 20,
   "metadata": {},
   "outputs": [
    {
     "name": "stdout",
     "output_type": "stream",
     "text": [
      "Overwriting new.py\n"
     ]
    }
   ],
   "source": [
    "%%file new.py\n",
    "import pandas as pd\n",
    "def get_tag_sum_count_from_file(file: str) -> dict:\n",
    "    df = pd.read_csv(file)\n",
    "    x = df.groupby('tags')['n_steps'].agg(['sum','count']).to_dict(orient = 'index')\n",
    "    return x"
   ]
  },
  {
   "cell_type": "code",
   "execution_count": 30,
   "metadata": {},
   "outputs": [
    {
     "data": {
      "text/plain": [
       "7.608917333275011"
      ]
     },
     "execution_count": 30,
     "metadata": {},
     "output_type": "execute_result"
    }
   ],
   "source": [
    "mean_dict['30-minutes-or-less']"
   ]
  },
  {
   "cell_type": "code",
   "execution_count": 21,
   "metadata": {},
   "outputs": [],
   "source": [
    "from new import get_tag_sum_count_from_file"
   ]
  },
  {
   "cell_type": "code",
   "execution_count": 26,
   "metadata": {},
   "outputs": [
    {
     "name": "stdout",
     "output_type": "stream",
     "text": [
      "Wall time: 7.88 s\n"
     ]
    }
   ],
   "source": [
    "%%time\n",
    "with multiprocessing.Pool(processes = 8) as pool:\n",
    "    ans = pool.map(get_tag_sum_count_from_file, files) \n",
    "agg_dict = agg_results(ans)\n",
    "mean_dict = get_mean_tag_nsteps(agg_dict) "
   ]
  },
  {
   "cell_type": "markdown",
   "metadata": {},
   "source": [
    "запуск функции get_tag_sum_count_from_file на каждом файле из списка `files` с помощью метода `map` пула процессов."
   ]
  },
  {
   "cell_type": "markdown",
   "metadata": {},
   "source": [
    "<p class=\"task\" id=\"6\"></p>\n",
    "\n",
    "6\\. Повторите решение задачи 4, распараллелив вычисления функции `get_tag_sum_count_from_file` для различных файлов с помощью `multiprocessing.Process`. Для обработки каждого файла создайте свой собственный процесс. Для обмена данными между процессами используйте `multiprocessing.Queue`.\n",
    "\n",
    "Выведите на экран результат для тэга \"30-minutes-or-less\". Определите, за какое время задача решается для всех файлов. При замере времени учитывайте время расчета статистики для каждого файла, агрегации результатов и, собственно, вычисления средного. Временем, затрачиваемым на процедуру разбиения исходного файла можно пренебречь."
   ]
  },
  {
   "cell_type": "code",
   "execution_count": null,
   "metadata": {},
   "outputs": [],
   "source": []
  },
  {
   "cell_type": "markdown",
   "metadata": {},
   "source": [
    "<p class=\"task\" id=\"7\"></p>\n",
    "\n",
    "7\\. Исследуйте, как влияет количество запущенных одновременно процессов на скорость решения задачи. Узнайте количество ядер вашего процессора $K$ (воспользуйтесь функцией `multiprocessing.cpu_count`). Повторите решение задачи 1, разбив исходный файл на $\\frac{K}{2}$, $K$ и $2K$ фрагментов. Для каждого из разбиений повторите решение задачи 5. Визуализируйте зависимость времени выполнения кода от количества файлов в разбиении. Сделайте вывод в виде текстового комментария."
   ]
  },
  {
   "cell_type": "code",
   "execution_count": 31,
   "metadata": {},
   "outputs": [
    {
     "data": {
      "text/plain": [
       "16"
      ]
     },
     "execution_count": 31,
     "metadata": {},
     "output_type": "execute_result"
    }
   ],
   "source": [
    "multiprocessing.cpu_count()"
   ]
  },
  {
   "cell_type": "code",
   "execution_count": 32,
   "metadata": {},
   "outputs": [
    {
     "name": "stdout",
     "output_type": "stream",
     "text": [
      "Создание файла: tag_nsteps_0.csv в котором 11833333 строк\n",
      "Создание файла: tag_nsteps_1.csv в котором 11833333 строк\n",
      "Создание файла: tag_nsteps_2.csv в котором 11833333 строк\n",
      "Создание файла: tag_nsteps_3.csv в котором 11833333 строк\n",
      "Создание файла: tag_nsteps_4.csv в котором 11833333 строк\n",
      "Создание файла: tag_nsteps_5.csv в котором 11528920 строк\n"
     ]
    }
   ],
   "source": [
    "old_file = 'tag_nsteps.csv'\n",
    "num_parts = 6\n",
    "for i, chunk in enumerate(pd.read_csv(old_file, chunksize=int(71000000/num_parts))):\n",
    "    new_file = f'tag_nsteps_{i}.csv'\n",
    "    chunk.to_csv(new_file, index=False)\n",
    "    print('Создание файла:', new_file, 'в котором', len(chunk),'строк')"
   ]
  },
  {
   "cell_type": "code",
   "execution_count": 33,
   "metadata": {},
   "outputs": [],
   "source": [
    "lst=[f'tag_nsteps_{i}.csv' for i in range(6)]"
   ]
  },
  {
   "cell_type": "code",
   "execution_count": 35,
   "metadata": {},
   "outputs": [
    {
     "name": "stdout",
     "output_type": "stream",
     "text": [
      "9.54 s ± 187 ms per loop (mean ± std. dev. of 7 runs, 1 loop each)\n"
     ]
    }
   ],
   "source": [
    "%%timeit\n",
    "with multiprocessing.Pool(processes = 8) as pool:\n",
    "    ans = pool.map(get_tag_sum_count_from_file, lst) \n",
    "agg_dict = agg_results(ans)\n",
    "mean_dict = get_mean_tag_nsteps(agg_dict)  "
   ]
  },
  {
   "cell_type": "code",
   "execution_count": 36,
   "metadata": {},
   "outputs": [
    {
     "name": "stdout",
     "output_type": "stream",
     "text": [
      "9.63 s ± 181 ms per loop (mean ± std. dev. of 7 runs, 1 loop each)\n"
     ]
    }
   ],
   "source": [
    "%%timeit\n",
    "with multiprocessing.Pool(processes = 16) as pool:\n",
    "    ans = pool.map(get_tag_sum_count_from_file, lst) \n",
    "agg_dict = agg_results(ans)\n",
    "mean_dict = get_mean_tag_nsteps(agg_dict)  "
   ]
  },
  {
   "cell_type": "code",
   "execution_count": 37,
   "metadata": {},
   "outputs": [
    {
     "name": "stdout",
     "output_type": "stream",
     "text": [
      "9.89 s ± 318 ms per loop (mean ± std. dev. of 7 runs, 1 loop each)\n"
     ]
    }
   ],
   "source": [
    "%%timeit\n",
    "with multiprocessing.Pool(processes = 32) as pool:\n",
    "    ans = pool.map(get_tag_sum_count_from_file, lst) \n",
    "agg_dict = agg_results(ans)\n",
    "mean_dict = get_mean_tag_nsteps(agg_dict)  "
   ]
  },
  {
   "cell_type": "code",
   "execution_count": 38,
   "metadata": {},
   "outputs": [
    {
     "data": {
      "image/png": "[encoded data removed]",
      "text/plain": [
       "<Figure size 432x288 with 1 Axes>"
      ]
     },
     "metadata": {
      "needs_background": "light"
     },
     "output_type": "display_data"
    }
   ],
   "source": [
    "import matplotlib.pyplot as plt\n",
    "\n",
    "a = [8, 16, 32]\n",
    "b = [9.54, 9.63, 9.89]\n",
    "\n",
    "plt.plot(a, b, 'bo-')  # 'bo-' синие круги соединенные линиями\n",
    "plt.xlabel('процессоры')\n",
    "plt.ylabel('время')\n",
    "plt.title('График зависимости колво процессоров от времени')\n",
    "plt.show()\n"
   ]
  },
  {
   "cell_type": "markdown",
   "metadata": {},
   "source": [
    "Я думаю, что так произошло из-за качества железа, + я все время оставляю ноут в спящем режиме, что и сказалось на производительность"
   ]
  }
 ],
 "metadata": {
  "kernelspec": {
   "display_name": "Python 3",
   "language": "python",
   "name": "python3"
  },
  "language_info": {
   "codemirror_mode": {
    "name": "ipython",
    "version": 3
   },
   "file_extension": ".py",
   "mimetype": "text/x-python",
   "name": "python",
   "nbconvert_exporter": "python",
   "pygments_lexer": "ipython3",
   "version": "3.8.8"
  }
 },
 "nbformat": 4,
 "nbformat_minor": 4
}
